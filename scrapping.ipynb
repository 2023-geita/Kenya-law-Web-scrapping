{
 "cells": [
  {
   "cell_type": "code",
   "execution_count": 257,
   "metadata": {},
   "outputs": [],
   "source": [
    "from selenium import webdriver\n",
    "from selenium.webdriver.common.by import By\n",
    "from selenium.webdriver.support.ui import WebDriverWait\n",
    "from selenium.webdriver.support import expected_conditions as EC\n",
    "from bs4 import BeautifulSoup\n",
    "import time\n"
   ]
  },
  {
   "cell_type": "code",
   "execution_count": 258,
   "metadata": {},
   "outputs": [],
   "source": [
    "# Create the WebDriver\n",
    "driver = webdriver.Firefox()\n"
   ]
  },
  {
   "cell_type": "code",
   "execution_count": 259,
   "metadata": {},
   "outputs": [],
   "source": [
    "# Intializing the base url\n",
    "base_url = \"https://new.kenyalaw.org\"\n"
   ]
  },
  {
   "cell_type": "code",
   "execution_count": 260,
   "metadata": {},
   "outputs": [],
   "source": [
    "def scrape_page(url):\n",
    "    # Navigate to the page\n",
    "    driver.get(url)\n",
    "\n",
    "    # Wait for the page to load\n",
    "    WebDriverWait(driver, 10).until(EC.presence_of_element_located((By.TAG_NAME, 'body')))\n",
    "  \n",
    "    #  Get the page source and parse it\n",
    "    soup = BeautifulSoup(driver.page_source, 'html.parser')\n",
    "\n",
    "    return driver, soup"
   ]
  },
  {
   "cell_type": "code",
   "execution_count": 261,
   "metadata": {},
   "outputs": [],
   "source": [
    "testing_url = \"https://new.kenyalaw.org/judgments/court-class/superior-courts/\"\n",
    "page_driver, page = scrape_page(testing_url)"
   ]
  },
  {
   "cell_type": "code",
   "execution_count": 262,
   "metadata": {},
   "outputs": [
    {
     "data": {
      "text/plain": [
       "'Superior Courts - Kenya Law'"
      ]
     },
     "execution_count": 262,
     "metadata": {},
     "output_type": "execute_result"
    }
   ],
   "source": [
    "page_driver.title\n"
   ]
  },
  {
   "cell_type": "code",
   "execution_count": 263,
   "metadata": {},
   "outputs": [],
   "source": [
    "def years_links_extract(url, page):\n",
    "    # Extracting all the years\n",
    "    ul_element = page.find(\"ul\", class_=\"year-nav mb-0 ms-2\")\n",
    "    years_links = []\n",
    "    if ul_element.findAll(\"li\"):\n",
    "        for li in ul_element.findAll(\"li\"):\n",
    "            a_tag = li.find(\"a\")\n",
    "            if a_tag and \"href\" in a_tag.attrs:\n",
    "                years_links.append(url + a_tag[\"href\"].split(\"/\")[-2] + \"/\")\n",
    "    \n",
    "    return years_links"
   ]
  },
  {
   "cell_type": "code",
   "execution_count": 264,
   "metadata": {},
   "outputs": [],
   "source": [
    "years = years_links_extract(testing_url, page)"
   ]
  },
  {
   "cell_type": "code",
   "execution_count": 265,
   "metadata": {},
   "outputs": [],
   "source": [
    "def months_links_extract(url, page):\n",
    "    # Extracting all the years\n",
    "    ul_element = page.find_all(\"ul\", class_=\"year-nav mb-0 ms-2\")[1]\n",
    "    months_links = []\n",
    "    if ul_element.findAll(\"li\"):\n",
    "        for li in ul_element.findAll(\"li\"):\n",
    "            a_tag = li.find(\"a\")\n",
    "            if a_tag and \"href\" in a_tag.attrs:\n",
    "                month = a_tag[\"href\"].split(\"/\")[-2]\n",
    "                months_links.append(url + month + \"/\")\n",
    "    \n",
    "    return months_links"
   ]
  },
  {
   "cell_type": "code",
   "execution_count": 266,
   "metadata": {},
   "outputs": [],
   "source": [
    "testing_url2 = \"https://new.kenyalaw.org/judgments/court-class/superior-courts/2019/\"\n",
    "page_driver2, page2 = scrape_page(testing_url2)"
   ]
  },
  {
   "cell_type": "code",
   "execution_count": 267,
   "metadata": {},
   "outputs": [
    {
     "data": {
      "text/plain": [
       "['https://new.kenyalaw.org/judgments/court-class/superior-courts/2019/1/',\n",
       " 'https://new.kenyalaw.org/judgments/court-class/superior-courts/2019/2/',\n",
       " 'https://new.kenyalaw.org/judgments/court-class/superior-courts/2019/3/',\n",
       " 'https://new.kenyalaw.org/judgments/court-class/superior-courts/2019/4/',\n",
       " 'https://new.kenyalaw.org/judgments/court-class/superior-courts/2019/5/',\n",
       " 'https://new.kenyalaw.org/judgments/court-class/superior-courts/2019/6/',\n",
       " 'https://new.kenyalaw.org/judgments/court-class/superior-courts/2019/7/',\n",
       " 'https://new.kenyalaw.org/judgments/court-class/superior-courts/2019/8/',\n",
       " 'https://new.kenyalaw.org/judgments/court-class/superior-courts/2019/9/',\n",
       " 'https://new.kenyalaw.org/judgments/court-class/superior-courts/2019/10/',\n",
       " 'https://new.kenyalaw.org/judgments/court-class/superior-courts/2019/11/',\n",
       " 'https://new.kenyalaw.org/judgments/court-class/superior-courts/2019/12/']"
      ]
     },
     "execution_count": 267,
     "metadata": {},
     "output_type": "execute_result"
    }
   ],
   "source": [
    "months_links_extract(testing_url2, page2)"
   ]
  },
  {
   "cell_type": "code",
   "execution_count": 268,
   "metadata": {},
   "outputs": [],
   "source": [
    "testing_url3 = \"https://new.kenyalaw.org/judgments/court-class/superior-courts/2019/1\"\n",
    "page_driver3, page3 = scrape_page(testing_url3)"
   ]
  },
  {
   "cell_type": "code",
   "execution_count": 269,
   "metadata": {},
   "outputs": [],
   "source": [
    "# Extracting page numbers\n",
    "def extract_page_numbers_links(url, page):\n",
    "    ul_element = page.find(\"ul\", class_=\"pagination flex-wrap\")\n",
    "    page_numbers = []\n",
    "    if ul_element:\n",
    "        for li in ul_element.findAll(\"li\"):\n",
    "            a_tag = li.find(\"a\")\n",
    "            if a_tag and \"href\" in a_tag.attrs:\n",
    "                page_numbers.append(f\"{url}&{a_tag[\"href\"][12:]}\")\n",
    "    \n",
    "    # print(\"Func 1\")\n",
    "    # print(page_numbers)\n",
    "    \n",
    "    return list(set(page_numbers))"
   ]
  },
  {
   "cell_type": "code",
   "execution_count": 270,
   "metadata": {},
   "outputs": [],
   "source": [
    "def exctract_alphabetical_links(url):\n",
    "    alphabets = [chr(i) for i in range(ord('a'), ord('z') + 1)]\n",
    "    links = []\n",
    "    \n",
    "    for alphabet in alphabets:\n",
    "        link = f\"{url}?alphabet={alphabet}\"\n",
    "        links.append(link)\n",
    "    \n",
    "    # print(\"Func 2\")\n",
    "    # print(links)\n",
    "    return links"
   ]
  },
  {
   "cell_type": "code",
   "execution_count": 271,
   "metadata": {},
   "outputs": [],
   "source": [
    "def pdf_links(page):\n",
    "    tr_elements = page.find_all(\"tr\")\n",
    "    links = []\n",
    "    \n",
    "    for tr in tr_elements:\n",
    "        # Find td with class 'cell-title'\n",
    "        td_title = tr.find(\"td\", class_=\"cell-title\")\n",
    "        if td_title:\n",
    "            a_tag = td_title.find(\"a\")\n",
    "            if a_tag and \"href\" in a_tag.attrs:\n",
    "                links.append(base_url + a_tag[\"href\"])\n",
    "    \n",
    "    # print(\"Func 3\")\n",
    "    # print(links)\n",
    "    \n",
    "    return links"
   ]
  },
  {
   "cell_type": "code",
   "execution_count": 277,
   "metadata": {},
   "outputs": [
    {
     "data": {
      "text/plain": [
       "'https://new.kenyalaw.org/akn/ke/judgment/keelc/2019/5009/eng@2019-01-18/source'"
      ]
     },
     "execution_count": 277,
     "metadata": {},
     "output_type": "execute_result"
    }
   ],
   "source": [
    "def extract_pdf_link(url):\n",
    "    driver.get(url)\n",
    "    pdf_download_page = BeautifulSoup(driver.page_source, 'html.parser')\n",
    "    a_tag = pdf_download_page.find(\"a\", class_=\"btn btn-primary btn-shrink-sm\")\n",
    "    \n",
    "    if a_tag:\n",
    "        return base_url + a_tag[\"href\"]\n",
    "\n",
    "extract_pdf_link(\"https://new.kenyalaw.org/akn/ke/judgment/keelc/2019/5009/eng@2019-01-18\")\n"
   ]
  },
  {
   "cell_type": "code",
   "execution_count": 285,
   "metadata": {},
   "outputs": [],
   "source": [
    "def exctract_all_cases_links_in_a_query(url):\n",
    "    all_alphabets_links = exctract_alphabetical_links(url)\n",
    "    all_pdfs = []\n",
    "    \n",
    "    for alphabet_link in all_alphabets_links:\n",
    "        driver.get(alphabet_link)\n",
    "        page_1 = BeautifulSoup(driver.page_source, 'html.parser')\n",
    "        # will concat alphabet link and page\n",
    "        # print(\"Printing alphabetical link\", alphabet_link)``\n",
    "        pages_links = extract_page_numbers_links(alphabet_link, page_1)\n",
    "        \n",
    "        for page_link in pages_links:           \n",
    "            driver.get(page_link)\n",
    "            page_2 = BeautifulSoup(driver.page_source, 'html.parser')\n",
    "            pdf_download_page_links = pdf_links(page_2)\n",
    "            \n",
    "            for link in pdf_download_page_links:\n",
    "                pdf_link =  extract_pdf_link(link)\n",
    "                all_pdfs.append(pdf_link)\n",
    "            \n",
    "            print(all_pdfs)\n",
    "            \n",
    "    return all_pdfs"
   ]
  },
  {
   "cell_type": "code",
   "execution_count": 287,
   "metadata": {},
   "outputs": [],
   "source": [
    "# exctract_all_cases_links_in_a_query(\"https://new.kenyalaw.org/judgments/court-class/superior-courts/2019/1\")\n",
    "\n"
   ]
  },
  {
   "cell_type": "code",
   "execution_count": null,
   "metadata": {},
   "outputs": [],
   "source": []
  },
  {
   "cell_type": "code",
   "execution_count": null,
   "metadata": {},
   "outputs": [],
   "source": []
  },
  {
   "cell_type": "code",
   "execution_count": 93,
   "metadata": {},
   "outputs": [],
   "source": [
    "driver.close()\n",
    "driver.quit()\n"
   ]
  },
  {
   "cell_type": "code",
   "execution_count": null,
   "metadata": {},
   "outputs": [],
   "source": []
  },
  {
   "cell_type": "code",
   "execution_count": null,
   "metadata": {},
   "outputs": [],
   "source": []
  }
 ],
 "metadata": {
  "kernelspec": {
   "display_name": ".venv",
   "language": "python",
   "name": "python3"
  },
  "language_info": {
   "codemirror_mode": {
    "name": "ipython",
    "version": 3
   },
   "file_extension": ".py",
   "mimetype": "text/x-python",
   "name": "python",
   "nbconvert_exporter": "python",
   "pygments_lexer": "ipython3",
   "version": "3.12.5"
  }
 },
 "nbformat": 4,
 "nbformat_minor": 2
}
