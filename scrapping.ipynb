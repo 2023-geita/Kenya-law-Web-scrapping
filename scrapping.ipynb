{
 "cells": [
  {
   "cell_type": "code",
   "execution_count": null,
   "metadata": {},
   "outputs": [],
   "source": [
    "from selenium import webdriver\n",
    "from selenium.webdriver.chrome.service import Service\n",
    "from webdriver_manager.chrome import ChromeDriverManager\n",
    "from selenium.webdriver.support import expected_conditions as EC\n",
    "from selenium.webdriver.support.ui import WebDriverWait\n",
    "from selenium.webdriver.common.by import By\n",
    "from bs4 import BeautifulSoup\n",
    "import time\n",
    "import numpy as np\n",
    "import re\n",
    "import requests\n",
    "import os\n"
   ]
  },
  {
   "cell_type": "code",
   "execution_count": null,
   "metadata": {},
   "outputs": [],
   "source": [
    "# Create the WebDriver\n",
    "driver = webdriver.Chrome(service=Service(ChromeDriverManager().install()))\n"
   ]
  },
  {
   "cell_type": "code",
   "execution_count": null,
   "metadata": {},
   "outputs": [],
   "source": [
    "# Intializing the base url\n",
    "base_url = \"https://new.kenyalaw.org\"\n"
   ]
  },
  {
   "cell_type": "code",
   "execution_count": null,
   "metadata": {},
   "outputs": [],
   "source": [
    "def scrape_page(url):\n",
    "    # Navigate to the page\n",
    "    driver.get(url)\n",
    "\n",
    "    # Wait for the page to load\n",
    "    WebDriverWait(driver, 3).until(EC.presence_of_element_located((By.TAG_NAME, 'body')))\n",
    "  \n",
    "    #  Get the page source and parse it\n",
    "    soup = BeautifulSoup(driver.page_source, 'html.parser')\n",
    "\n",
    "    return driver, soup"
   ]
  },
  {
   "cell_type": "code",
   "execution_count": null,
   "metadata": {},
   "outputs": [],
   "source": [
    "# testing_url = \"https://new.kenyalaw.org/judgments/court-class/superior-courts/\"\n",
    "# page_driver, page = scrape_page(testing_url)"
   ]
  },
  {
   "cell_type": "code",
   "execution_count": null,
   "metadata": {},
   "outputs": [],
   "source": [
    "# page_driver.title\n"
   ]
  },
  {
   "cell_type": "code",
   "execution_count": null,
   "metadata": {},
   "outputs": [],
   "source": [
    "def years_links_extract(url, page):\n",
    "    # Extracting all the years\n",
    "    ul_element = page.find(\"ul\", class_=\"year-nav mb-0 ms-2\")\n",
    "    years_links = []\n",
    "    if ul_element.findAll(\"li\"):\n",
    "        for li in ul_element.findAll(\"li\"):\n",
    "            a_tag = li.find(\"a\")\n",
    "            if a_tag and \"href\" in a_tag.attrs:\n",
    "                years_links.append(url + a_tag[\"href\"].split(\"/\")[-2] + \"/\")\n",
    "    \n",
    "    return years_links"
   ]
  },
  {
   "cell_type": "code",
   "execution_count": null,
   "metadata": {},
   "outputs": [],
   "source": [
    "# years = years_links_extract(testing_url, page)\n",
    "# years"
   ]
  },
  {
   "cell_type": "code",
   "execution_count": null,
   "metadata": {},
   "outputs": [],
   "source": [
    "def months_links_extract(url, page):\n",
    "    # Extracting all the years\n",
    "    ul_element = page.find_all(\"ul\", class_=\"year-nav mb-0 ms-2\")[1]\n",
    "    months_links = []\n",
    "    if ul_element.findAll(\"li\"):\n",
    "        for li in ul_element.findAll(\"li\"):\n",
    "            a_tag = li.find(\"a\")\n",
    "            if a_tag and \"href\" in a_tag.attrs:\n",
    "                month = a_tag[\"href\"].split(\"/\")[-2]\n",
    "                months_links.append(url + month + \"/\")\n",
    "    \n",
    "    return months_links"
   ]
  },
  {
   "cell_type": "code",
   "execution_count": null,
   "metadata": {},
   "outputs": [],
   "source": [
    "# testing_url2 = \"https://new.kenyalaw.org/judgments/court-class/superior-courts/2019/\"\n",
    "# page_driver2, page2 = scrape_page(testing_url2)"
   ]
  },
  {
   "cell_type": "code",
   "execution_count": null,
   "metadata": {},
   "outputs": [],
   "source": [
    "# months_links_extract(testing_url2, page2)"
   ]
  },
  {
   "cell_type": "code",
   "execution_count": null,
   "metadata": {},
   "outputs": [],
   "source": [
    "# testing_url3 = \"https://new.kenyalaw.org/judgments/court-class/superior-courts/2019/1\"\n",
    "# page_driver3, page3 = scrape_page(testing_url3)"
   ]
  },
  {
   "cell_type": "code",
   "execution_count": null,
   "metadata": {},
   "outputs": [],
   "source": [
    "# Extracting page numbers\n",
    "def extract_page_numbers_links(url, page):\n",
    "    ul_element = page.find(\"ul\", class_=\"pagination flex-wrap\")\n",
    "    page_numbers = []\n",
    "    if ul_element:\n",
    "        for li in ul_element.findAll(\"li\"):\n",
    "            a_tag = li.find(\"a\")\n",
    "            if a_tag and \"href\" in a_tag.attrs:\n",
    "                page_numbers.append(f\"{url}&{a_tag['href'][12:]}\")\n",
    "\n",
    "    \n",
    "    # print(\"Func 1\")\n",
    "    # print(page_numbers)\n",
    "    \n",
    "    return list(set(page_numbers))"
   ]
  },
  {
   "cell_type": "code",
   "execution_count": null,
   "metadata": {},
   "outputs": [],
   "source": [
    "\n",
    "def exctract_alphabetical_links(url):\n",
    "    alphabets = [chr(i) for i in range(ord('a'), ord('z') + 1)]\n",
    "    links = []\n",
    "    \n",
    "    for alphabet in alphabets:\n",
    "        link = f\"{url}?alphabet={alphabet}\"\n",
    "        links.append(link)\n",
    "    \n",
    "    # print(\"Func 2\")\n",
    "    # print(links)\n",
    "    return links"
   ]
  },
  {
   "cell_type": "code",
   "execution_count": null,
   "metadata": {},
   "outputs": [],
   "source": [
    "def pdf_links(page):\n",
    "    tr_elements = page.find_all(\"tr\")\n",
    "    links = []\n",
    "    \n",
    "    for tr in tr_elements:\n",
    "        # Find td with class 'cell-title'\n",
    "        td_title = tr.find(\"td\", class_=\"cell-title\")\n",
    "        if td_title:\n",
    "            a_tag = td_title.find(\"a\")\n",
    "            if a_tag and \"href\" in a_tag.attrs:\n",
    "                links.append(base_url + a_tag[\"href\"])\n",
    "    \n",
    "    # print(\"Func 3\")\n",
    "    # print(links)\n",
    "    \n",
    "    return links"
   ]
  },
  {
   "cell_type": "code",
   "execution_count": null,
   "metadata": {},
   "outputs": [],
   "source": [
    "\n",
    "def is_pdf_size_greater_than_zero(text):\n",
    "    # Use regex to find the storage size in the format (number + KB)\n",
    "    match = re.search(r'(\\d+(\\.\\d+)?)\\s*KB', text)\n",
    "    \n",
    "    if match:\n",
    "        # Extract the size as a float\n",
    "        size_in_kb = float(match.group(1))\n",
    "        # Return True if size is greater than 0, otherwise False\n",
    "        return size_in_kb > 0\n",
    "    else:\n",
    "        # If no size is found, return False\n",
    "        return False\n",
    "\n",
    "# Extract pdf\n",
    "def extract_pdf_link(url):\n",
    "    driver.get(url)\n",
    "    pdf_download_page_driver, pdf_download_page = scrape_page(url)\n",
    "    \n",
    "    a_element = pdf_download_page_driver.find_element(By.CSS_SELECTOR, \"a.btn.btn-primary.btn-shrink-sm\")\n",
    "    a_tag = a_element.get_attribute(\"href\")\n",
    "\n",
    "    \n",
    "    pdf_size_greater_than_zero = is_pdf_size_greater_than_zero(a_element.text.strip())\n",
    "    \n",
    "    if pdf_size_greater_than_zero:\n",
    "        return a_tag\n",
    "    else:\n",
    "        dd_elements = pdf_download_page.find_all(\"dd\") \n",
    "        a_tag = dd_elements[-1].find(\"a\")\n",
    "        download_link = a_tag[\"href\"]\n",
    "        return download_link\n",
    "    \n",
    "# extract_pdf_link(\"https://new.kenyalaw.org/akn/ke/judgment/kehc/1990/87/eng@1990-12-19\")\n",
    "\n"
   ]
  },
  {
   "cell_type": "code",
   "execution_count": null,
   "metadata": {},
   "outputs": [],
   "source": [
    "# sorta main fun\n",
    "def exctract_all_cases_links_in_a_query(url):\n",
    "    all_alphabets_links = exctract_alphabetical_links(url)\n",
    "    all_pdfs = []\n",
    "    \n",
    "    for alphabet_link in all_alphabets_links:\n",
    "        # driver.get(alphabet_link)\n",
    "        page_1_driver, page_1 = scrape_page(alphabet_link)\n",
    "        # will concat alphabet link and page\n",
    "        # print(\"Printing alphabetical link\", alphabet_link)\n",
    "        pages_links = extract_page_numbers_links(alphabet_link, page_1)\n",
    "        \n",
    "        for page_link in pages_links:           \n",
    "            page_2_driver, page_2 = scrape_page(page_link)\n",
    "            pdf_download_page_links = pdf_links(page_2)\n",
    "            \n",
    "            for link in pdf_download_page_links:\n",
    "                pdf_link =  extract_pdf_link(link)\n",
    "                all_pdfs.append(pdf_link)\n",
    "            \n",
    "            print(all_pdfs)\n",
    "            \n",
    "    return np.array(all_pdfs).flatten()"
   ]
  },
  {
   "cell_type": "code",
   "execution_count": null,
   "metadata": {},
   "outputs": [],
   "source": [
    "# exctract_all_cases_links_in_a_query(\"https://new.kenyalaw.org/judgments/court-class/superior-courts/2019/1\")\n",
    "\n"
   ]
  },
  {
   "cell_type": "code",
   "execution_count": null,
   "metadata": {},
   "outputs": [],
   "source": [
    "import os\n",
    "import requests\n",
    "import numpy as np\n",
    "\n",
    "# Existing functions remain the same: `download_files`, `download_file`, etc.\n",
    "\n",
    "def final_page_scrapper(url, download_folder=\"downloaded_files\"):\n",
    "    # Ensure download folder exists\n",
    "    if not os.path.exists(download_folder):\n",
    "        os.makedirs(download_folder)\n",
    "        \n",
    "    # Set to store all unique downloadable links\n",
    "    all_downloadable_links = set()\n",
    "    \n",
    "    # Start scraping\n",
    "    scraped_page_driver, scraped_page = scrape_page(url)\n",
    "    years_links = years_links_extract(url, scraped_page)\n",
    "    print(\"****************Got year links****************\")\n",
    "    \n",
    "    for year_link in years_links:\n",
    "        year_page_driver, year_page = scrape_page(year_link)\n",
    "        months_links = months_links_extract(year_link, year_page)\n",
    "        print(\"****************Got month links****************\")\n",
    "        \n",
    "        for month_link in months_links:\n",
    "            downloadble_links = exctract_all_cases_links_in_a_query(month_link)\n",
    "            \n",
    "            # Convert to list, flatten and iterate through each link\n",
    "            for link in np.array(downloadble_links).flatten():\n",
    "                # Skip if link already downloaded\n",
    "                if link in all_downloadable_links:\n",
    "                    continue\n",
    "                \n",
    "                # Add link to the set of all downloadable links\n",
    "                all_downloadable_links.add(link)\n",
    "                \n",
    "                # Download file immediately\n",
    "                filename = os.path.join(download_folder, link.split('/')[-1])\n",
    "                download_file(link, filename)\n",
    "                \n",
    "    print(\"\\nAll links processed and downloaded.\")\n",
    "    return all_downloadable_links\n",
    "\n",
    "def download_file(url, filename):\n",
    "    try:\n",
    "        response = requests.get(url, timeout=30)\n",
    "        if response.status_code == 200:\n",
    "            with open(filename, 'wb') as file:\n",
    "                file.write(response.content)\n",
    "            print(f\"Downloaded: {filename}\")\n",
    "            return True\n",
    "        else:\n",
    "            print(f\"Failed to download: {url}\")\n",
    "            return False\n",
    "    except requests.RequestException as e:\n",
    "        print(f\"Error downloading {url}: {e}\")\n",
    "        return False\n",
    "\n",
    "# Example usage\n",
    "final_page_scrapper(\"https://new.kenyalaw.org/judgments/KESC/\")\n"
   ]
  },
  {
   "cell_type": "code",
   "execution_count": null,
   "metadata": {},
   "outputs": [],
   "source": [
    "final_page_scrapper(\"https://new.kenyalaw.org/judgments/court-class/superior-courts/\")"
   ]
  },
  {
   "cell_type": "code",
   "execution_count": null,
   "metadata": {},
   "outputs": [],
   "source": [
    "import os\n",
    "import requests\n",
    "import time\n",
    "\n",
    "def download_files(url_list, folder_path):\n",
    "    if not os.path.exists(folder_path):\n",
    "        os.makedirs(folder_path)\n",
    "    \n",
    "    total_files = len(url_list)\n",
    "    downloaded_files = 0\n",
    "    failed_downloads = []\n",
    "\n",
    "    print(f\"Starting download of {total_files} files.\")\n",
    "\n",
    "    for url in url_list:\n",
    "        filename = os.path.join(folder_path, url.split('/')[-1])\n",
    "        \n",
    "        if download_file(url, filename):\n",
    "            downloaded_files += 1\n",
    "        else:\n",
    "            failed_downloads.append(url)\n",
    "        \n",
    "        print(f\"Files remaining: {total_files - downloaded_files}\")\n",
    "\n",
    "    if failed_downloads:\n",
    "        print(f\"\\nAttempting to redownload {len(failed_downloads)} failed files...\")\n",
    "        for url in failed_downloads[:]:  # Create a copy to iterate over\n",
    "            filename = os.path.join(folder_path, url.split('/')[-1])\n",
    "            if download_file(url, filename):\n",
    "                downloaded_files += 1\n",
    "                failed_downloads.remove(url)\n",
    "\n",
    "    print(f\"\\nDownload complete. {downloaded_files} files downloaded successfully.\")\n",
    "    if failed_downloads:\n",
    "        print(f\"Failed to download {len(failed_downloads)} files:\")\n",
    "        for url in failed_downloads:\n",
    "            print(url)\n",
    "\n",
    "def download_file(url, filename):\n",
    "    try:\n",
    "        response = requests.get(url, timeout=30)\n",
    "        if response.status_code == 200:\n",
    "            with open(filename, 'wb') as file:\n",
    "                file.write(response.content)\n",
    "            print(f\"Downloaded: {filename}\")\n",
    "            return True\n",
    "        else:\n",
    "            print(f\"Failed to download: {url}\")\n",
    "            return False\n",
    "    except requests.RequestException as e:\n",
    "        print(f\"Error downloading {url}: {e}\")\n",
    "        return False\n",
    "\n",
    "\n",
    "urls = ['https://new.kenyalaw.org/akn/ke/judgment/keelc/2024/407/eng@2024-01-31/source', 'https://new.kenyalaw.org/akn/ke/judgment/kehc/2024/594/eng@2024-01-31/source', 'https://new.kenyalaw.org/akn/ke/judgment/keelc/2024/384/eng@2024-01-31/source', 'https://new.kenyalaw.org/akn/ke/judgment/keelc/2024/5163/eng@2024-01-31/source', 'https://new.kenyalaw.org/akn/ke/judgment/keelc/2024/455/eng@2024-01-31/source', 'https://new.kenyalaw.org/akn/ke/judgment/keelc/2024/297/eng@2024-01-31/source', 'https://new.kenyalaw.org/akn/ke/judgment/kehc/2024/812/eng@2024-01-31/source', 'https://new.kenyalaw.org/akn/ke/judgment/kehc/2024/928/eng@2024-01-30/source', 'https://new.kenyalaw.org/akn/ke/judgment/keelc/2024/314/eng@2024-01-30/source', 'https://new.kenyalaw.org/akn/ke/judgment/keelc/2024/336/eng@2024-01-30/source', 'https://new.kenyalaw.org/akn/ke/judgment/kehc/2024/597/eng@2024-01-30/source', 'https://new.kenyalaw.org/akn/ke/judgment/kehc/2024/608/eng@2024-01-30/source', 'https://new.kenyalaw.org/akn/ke/judgment/keelc/2024/308/eng@2024-01-30/source', 'https://new.kenyalaw.org/akn/ke/judgment/kehc/2024/504/eng@2024-01-30/source', 'https://new.kenyalaw.org/akn/ke/judgment/keelc/2024/276/eng@2024-01-30/source', 'https://new.kenyalaw.org/akn/ke/judgment/kehc/2024/599/eng@2024-01-30/source', 'https://new.kenyalaw.org/akn/ke/judgment/kehc/2024/2333/eng@2024-01-30/source', 'https://new.kenyalaw.org/akn/ke/judgment/keelc/2024/217/eng@2024-01-30/source', 'https://new.kenyalaw.org/akn/ke/judgment/keelc/2024/309/eng@2024-01-30/source', 'https://new.kenyalaw.org/akn/ke/judgment/keelc/2024/204/eng@2024-01-29/source', 'https://new.kenyalaw.org/akn/ke/judgment/kehc/2024/615/eng@2024-01-29/source', 'https://new.kenyalaw.org/akn/ke/judgment/kehc/2024/434/eng@2024-01-26/source', 'https://new.kenyalaw.org/akn/ke/judgment/kehc/2024/556/eng@2024-01-26/source', 'https://new.kenyalaw.org/akn/ke/judgment/kehc/2024/336/eng@2024-01-26/source', 'https://new.kenyalaw.org/akn/ke/judgment/keelc/2024/135/eng@2024-01-25/source', 'https://new.kenyalaw.org/akn/ke/judgment/kehc/2024/525/eng@2024-01-25/source', 'https://new.kenyalaw.org/akn/ke/judgment/keelc/2024/233/eng@2024-01-25/source', 'https://new.kenyalaw.org/akn/ke/judgment/kehc/2024/488/eng@2024-01-25/source', 'https://new.kenyalaw.org/akn/ke/judgment/keelrc/2024/39/eng@2024-01-25/source', 'https://new.kenyalaw.org/akn/ke/judgment/keca/2024/673/eng@2024-01-25/source', 'https://new.kenyalaw.org/akn/ke/judgment/kehc/2024/409/eng@2024-01-25/source', 'https://new.kenyalaw.org/akn/ke/judgment/keelc/2024/169/eng@2024-01-25/source', 'https://new.kenyalaw.org/akn/ke/judgment/kehc/2024/653/eng@2024-01-25/source', 'https://new.kenyalaw.org/akn/ke/judgment/kehc/2024/644/eng@2024-01-25/source', 'https://new.kenyalaw.org/akn/ke/judgment/kehc/2024/254/eng@2024-01-25/source', 'https://new.kenyalaw.org/akn/ke/judgment/kehc/2024/384/eng@2024-01-25/source', 'https://new.kenyalaw.org/akn/ke/judgment/kehc/2024/407/eng@2024-01-25/source', 'https://new.kenyalaw.org/akn/ke/judgment/kehc/2024/692/eng@2024-01-25/source', 'https://new.kenyalaw.org/akn/ke/judgment/keca/2024/49/eng@2024-01-25/source', 'https://new.kenyalaw.org/akn/ke/judgment/keelrc/2024/46/eng@2024-01-25/source']\n",
    "\n",
    "download_folder = \"downloaded_files\"\n",
    "download_files(urls, download_folder)\n",
    "        "
   ]
  },
  {
   "cell_type": "code",
   "execution_count": null,
   "metadata": {},
   "outputs": [],
   "source": []
  },
  {
   "cell_type": "code",
   "execution_count": null,
   "metadata": {},
   "outputs": [],
   "source": []
  },
  {
   "cell_type": "code",
   "execution_count": null,
   "metadata": {},
   "outputs": [],
   "source": [
    "driver.close()\n",
    "driver.quit()\n"
   ]
  },
  {
   "cell_type": "code",
   "execution_count": null,
   "metadata": {},
   "outputs": [],
   "source": []
  }
 ],
 "metadata": {
  "kernelspec": {
   "display_name": "base",
   "language": "python",
   "name": "python3"
  },
  "language_info": {
   "codemirror_mode": {
    "name": "ipython",
    "version": 3
   },
   "file_extension": ".py",
   "mimetype": "text/x-python",
   "name": "python",
   "nbconvert_exporter": "python",
   "pygments_lexer": "ipython3",
   "version": "3.11.7"
  }
 },
 "nbformat": 4,
 "nbformat_minor": 2
}
